{
  "nbformat": 4,
  "nbformat_minor": 0,
  "metadata": {
    "colab": {
      "provenance": [],
      "include_colab_link": true
    },
    "kernelspec": {
      "name": "python3",
      "display_name": "Python 3"
    },
    "language_info": {
      "name": "python"
    }
  },
  "cells": [
    {
      "cell_type": "markdown",
      "metadata": {
        "id": "view-in-github",
        "colab_type": "text"
      },
      "source": [
        "<a href=\"https://colab.research.google.com/github/Marianne859/ds1002-meb5pj/blob/main/homework/week-7.ipynb\" target=\"_parent\"><img src=\"https://colab.research.google.com/assets/colab-badge.svg\" alt=\"Open In Colab\"/></a>"
      ]
    },
    {
      "cell_type": "markdown",
      "source": [
        "# Homework - Week 7\n",
        "\n",
        "Complete the following blocks as specified in the directions. Run each cell to return the desired output. Save your notebook back to your GitHub repository and submit the GitHub URL for your notebook for review.\n",
        "\n",
        "Load the following dataset into pandas and perform the requested operations in code.\n",
        "\n",
        "Source: https://ds1002-resources.s3.amazonaws.com/data/ride_sharing.csv"
      ],
      "metadata": {
        "id": "phbaQTT5gy8A"
      }
    },
    {
      "cell_type": "code",
      "source": [
        "# Load pandas and the data\n",
        "import numpy as np\n",
        "import pandas as pd\n",
        "ride_sharing= pd.read_csv(\"ride_sharing.csv\")\n",
        "print(ride_sharing)"
      ],
      "metadata": {
        "id": "kdFLCHtOg53p",
        "colab": {
          "base_uri": "https://localhost:8080/"
        },
        "outputId": "bf3d5bb1-63fa-4bd6-c9de-8446928b9472"
      },
      "execution_count": 4,
      "outputs": [
        {
          "output_type": "stream",
          "name": "stdout",
          "text": [
            "         duration  station_A_id  \\\n",
            "0      12 minutes            81   \n",
            "1      24 minutes             3   \n",
            "2       8 minutes            67   \n",
            "3       4 minutes            16   \n",
            "4      11 minutes            22   \n",
            "...           ...           ...   \n",
            "25755  11 minutes            15   \n",
            "25756  10 minutes            15   \n",
            "25757  14 minutes            15   \n",
            "25758  14 minutes            15   \n",
            "25759  29 minutes            16   \n",
            "\n",
            "                                          station_A_name  station_B_id  \\\n",
            "0                                     Berry St at 4th St           323   \n",
            "1           Powell St BART Station (Market St at 4th St)           118   \n",
            "2      San Francisco Caltrain Station 2  (Townsend St...            23   \n",
            "3                                Steuart St at Market St            28   \n",
            "4                                  Howard St at Beale St           350   \n",
            "...                                                  ...           ...   \n",
            "25755  San Francisco Ferry Building (Harry Bridges Pl...            34   \n",
            "25756  San Francisco Ferry Building (Harry Bridges Pl...            34   \n",
            "25757  San Francisco Ferry Building (Harry Bridges Pl...            42   \n",
            "25758  San Francisco Ferry Building (Harry Bridges Pl...            42   \n",
            "25759                            Steuart St at Market St           115   \n",
            "\n",
            "                                      station_B_name  bike_id  user_type  \\\n",
            "0                                 Broadway at Kearny     5480          2   \n",
            "1                    Eureka Valley Recreation Center     5193          2   \n",
            "2                      The Embarcadero at Steuart St     3652          3   \n",
            "3                       The Embarcadero at Bryant St     1883          1   \n",
            "4                               8th St at Brannan St     4626          2   \n",
            "...                                              ...      ...        ...   \n",
            "25755                 Father Alfred E Boeddeker Park     5063          1   \n",
            "25756                 Father Alfred E Boeddeker Park     5411          2   \n",
            "25757  San Francisco City Hall (Polk St at Grove St)     5157          2   \n",
            "25758  San Francisco City Hall (Polk St at Grove St)     4438          2   \n",
            "25759                             Jackson Playground     1705          3   \n",
            "\n",
            "       user_birth_year user_gender  tire_size  \n",
            "0                 1959        Male         26  \n",
            "1                 1965        Male         27  \n",
            "2                 1993        Male         29  \n",
            "3                 1979        Male         26  \n",
            "4                 1994        Male         27  \n",
            "...                ...         ...        ...  \n",
            "25755             2000        Male         26  \n",
            "25756             1998        Male         26  \n",
            "25757             1995        Male         26  \n",
            "25758             1995        Male         27  \n",
            "25759             1990        Male         27  \n",
            "\n",
            "[25760 rows x 10 columns]\n"
          ]
        }
      ]
    },
    {
      "cell_type": "code",
      "source": [
        "# show how many rows and columns are in this dataset\n",
        "import numpy as np\n",
        "import pandas as pd\n",
        "ride_sharing= pd.read_csv(\"ride_sharing.csv\")\n",
        "num_rows, num_columns = ride_sharing.shape\n",
        "print(f\"Number of rows: {num_rows}\")\n",
        "print(f\"Number of columns: {num_columns}\")"
      ],
      "metadata": {
        "id": "Lfh8suAyhKQW",
        "colab": {
          "base_uri": "https://localhost:8080/"
        },
        "outputId": "94c2c314-cf3e-4ba5-c1e1-bcd70f216cf9"
      },
      "execution_count": 6,
      "outputs": [
        {
          "output_type": "stream",
          "name": "stdout",
          "text": [
            "Number of rows: 25760\n",
            "Number of columns: 10\n"
          ]
        }
      ]
    },
    {
      "cell_type": "code",
      "source": [
        "# The first column, \"duration\" is seen as a string.\n",
        "# Using two snippets of code, clean this column up so that\n",
        "# is now an integer (int64)\n",
        "import numpy as np\n",
        "import pandas as pd\n",
        "ride_sharing= pd.read_csv(\"ride_sharing.csv\")\n",
        "ride_sharing['duration'] = ride_sharing['duration'].str.replace('[^0-9]', '', regex=True).astype('int64')"
      ],
      "metadata": {
        "id": "KK5-y9nzhMVq"
      },
      "execution_count": 12,
      "outputs": []
    },
    {
      "cell_type": "code",
      "source": [
        "# Now display the datatypes in the updated dataframe\n",
        "import numpy as np\n",
        "import pandas as pd\n",
        "ride_sharing= pd.read_csv(\"ride_sharing.csv\")\n",
        "ride_sharing['duration'] = ride_sharing['duration'].str.replace('[^0-9]', '', regex=True).astype('int64')\n",
        "print(ride_sharing.dtypes)"
      ],
      "metadata": {
        "id": "QyGJUshvhz1J",
        "colab": {
          "base_uri": "https://localhost:8080/"
        },
        "outputId": "7536d209-31e3-49f3-c34f-2694147a9954"
      },
      "execution_count": 13,
      "outputs": [
        {
          "output_type": "stream",
          "name": "stdout",
          "text": [
            "duration            int64\n",
            "station_A_id        int64\n",
            "station_A_name     object\n",
            "station_B_id        int64\n",
            "station_B_name     object\n",
            "bike_id             int64\n",
            "user_type           int64\n",
            "user_birth_year     int64\n",
            "user_gender        object\n",
            "tire_size           int64\n",
            "dtype: object\n"
          ]
        }
      ]
    },
    {
      "cell_type": "code",
      "source": [
        "# Show the min and max values of ride durations (the shortest and longest rides)\n",
        "# Hint: If 'df' is the name of your dataframe, simply specify the column name\n",
        "# and then append the .min() or .max() methods.\n",
        "min_duration = ride_sharing['duration'].min()\n",
        "max_duration = ride_sharing['duration'].max()\n",
        "print(f\"Minimum ride duration: {min_duration} minutes\")\n",
        "print(f\"Maximum ride duration: {max_duration} minutes\")"
      ],
      "metadata": {
        "id": "UCA1OswWh5b5",
        "colab": {
          "base_uri": "https://localhost:8080/"
        },
        "outputId": "777a06f4-7160-40f9-b4cd-02cfb8c46a40"
      },
      "execution_count": 14,
      "outputs": [
        {
          "output_type": "stream",
          "name": "stdout",
          "text": [
            "Minimum ride duration: 1 minutes\n",
            "Maximum ride duration: 1372 minutes\n"
          ]
        }
      ]
    },
    {
      "cell_type": "code",
      "source": [
        "# Create a new dataframe object and populate it with rides that are 60 minutes or less.\n",
        "# Hint: Use the .query() method for the dataframe that we used in class.\n",
        "rides_under_60 = ride_sharing.query('duration <= 60')"
      ],
      "metadata": {
        "id": "K7mStv5kibbA",
        "colab": {
          "base_uri": "https://localhost:8080/",
          "height": 211
        },
        "outputId": "692cb4e2-8b1e-4c8a-f416-f58e64c6f065"
      },
      "execution_count": 1,
      "outputs": [
        {
          "output_type": "error",
          "ename": "NameError",
          "evalue": "ignored",
          "traceback": [
            "\u001b[0;31m---------------------------------------------------------------------------\u001b[0m",
            "\u001b[0;31mNameError\u001b[0m                                 Traceback (most recent call last)",
            "\u001b[0;32m<ipython-input-1-379431ea275c>\u001b[0m in \u001b[0;36m<cell line: 3>\u001b[0;34m()\u001b[0m\n\u001b[1;32m      1\u001b[0m \u001b[0;31m# Create a new dataframe object and populate it with rides that are 60 minutes or less.\u001b[0m\u001b[0;34m\u001b[0m\u001b[0;34m\u001b[0m\u001b[0m\n\u001b[1;32m      2\u001b[0m \u001b[0;31m# Hint: Use the .query() method for the dataframe that we used in class.\u001b[0m\u001b[0;34m\u001b[0m\u001b[0;34m\u001b[0m\u001b[0m\n\u001b[0;32m----> 3\u001b[0;31m \u001b[0mrides_under_60\u001b[0m \u001b[0;34m=\u001b[0m \u001b[0mride_sharing\u001b[0m\u001b[0;34m.\u001b[0m\u001b[0mquery\u001b[0m\u001b[0;34m(\u001b[0m\u001b[0;34m'duration <= 60'\u001b[0m\u001b[0;34m)\u001b[0m\u001b[0;34m\u001b[0m\u001b[0;34m\u001b[0m\u001b[0m\n\u001b[0m",
            "\u001b[0;31mNameError\u001b[0m: name 'ride_sharing' is not defined"
          ]
        }
      ]
    },
    {
      "cell_type": "code",
      "source": [
        "# Now show both the min and max values of the duration column for your new dataset.\n",
        "rides_under_60 = ride_sharing.query('duration <= 60')\n",
        "min_duration = rides_under_60['duration'].min()\n",
        "max_duration = rides_under_60['duration'].max()\n",
        "print(f\"Minimum ride duration: {min_duration} minutes\")\n",
        "print(f\"Maximum ride duration: {max_duration} minutes\")"
      ],
      "metadata": {
        "id": "v63UdQjNi-w5",
        "colab": {
          "base_uri": "https://localhost:8080/"
        },
        "outputId": "ccce286f-9be5-4ca2-f090-a4cc2ba9df70"
      },
      "execution_count": 20,
      "outputs": [
        {
          "output_type": "stream",
          "name": "stdout",
          "text": [
            "Minimum ride duration: 1 minutes\n",
            "Maximum ride duration: 60 minutes\n"
          ]
        }
      ]
    },
    {
      "cell_type": "code",
      "source": [
        "# Using the new dataframe, update it so that is ONLY has records where\n",
        "# the tire_size is 26.\n",
        "rides_under_60 = ride_sharing.query('duration <= 60')\n",
        "rides_under_60 = ride_sharing.query('tire_size == 26')"
      ],
      "metadata": {
        "id": "xTzb_j9rjGk2"
      },
      "execution_count": 22,
      "outputs": []
    },
    {
      "cell_type": "code",
      "source": [
        "# Finally, produce a count of all records with FEMALE riders\n",
        "# using the 26-inch wheeled rental bikes for their rentals of\n",
        "# one hour or less.\n",
        "rides_under_60 = ride_sharing.query('duration <= 60')\n",
        "rides_under_60 = ride_sharing.query('tire_size == 26')\n",
        "female_short_rides_count = rides_under_60.query('user_gender == \"FEMALE\"').shape[0]\n",
        "print(f\"Count of FEMALE riders with 26-inch tire size and one hour or less duration: {female_short_rides_count}\")"
      ],
      "metadata": {
        "id": "0cwbfj66jrG9",
        "colab": {
          "base_uri": "https://localhost:8080/"
        },
        "outputId": "a63f192b-01d4-4ea7-c5f4-2a3abecafbdb"
      },
      "execution_count": 27,
      "outputs": [
        {
          "output_type": "stream",
          "name": "stdout",
          "text": [
            "Count of FEMALE riders with 26-inch tire size and one hour or less duration: 0\n"
          ]
        }
      ]
    }
  ]
}