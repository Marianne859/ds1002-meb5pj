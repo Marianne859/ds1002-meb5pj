{
  "nbformat": 4,
  "nbformat_minor": 0,
  "metadata": {
    "colab": {
      "provenance": [],
      "include_colab_link": true
    },
    "kernelspec": {
      "name": "python3",
      "display_name": "Python 3"
    },
    "language_info": {
      "name": "python"
    }
  },
  "cells": [
    {
      "cell_type": "markdown",
      "metadata": {
        "id": "view-in-github",
        "colab_type": "text"
      },
      "source": [
        "<a href=\"https://colab.research.google.com/github/Marianne859/ds1002-meb5pj/blob/main/homework/week-10.ipynb\" target=\"_parent\"><img src=\"https://colab.research.google.com/assets/colab-badge.svg\" alt=\"Open In Colab\"/></a>"
      ]
    },
    {
      "cell_type": "markdown",
      "source": [
        "# Homework - Week 10\n",
        "\n",
        "Complete the following blocks as specified in the directions. Run each cell to return the desired output. Save your notebook back to your GitHub repository and submit the GitHub URL to your notebook for review."
      ],
      "metadata": {
        "id": "phbaQTT5gy8A"
      }
    },
    {
      "cell_type": "markdown",
      "source": [
        "## Class Basics\n",
        "\n",
        "Closely inspect the class below and answer the questions in the following cells."
      ],
      "metadata": {
        "id": "38Pg39pMrDua"
      }
    },
    {
      "cell_type": "code",
      "source": [
        "\n",
        "class Products:\n",
        "  def __init__(self, id, name, price, description, manufacturer):\n",
        "    self.id = id\n",
        "    self.name = name\n",
        "    self.price = price\n",
        "    self.description = description\n",
        "    self.manufacturer = manufacturer\n",
        "\n",
        "  def print_products(self):\n",
        "    print(f\"Product {self.id} is {self.name} made by {self.manufacturer}. It costs ${self.price}\")\n"
      ],
      "metadata": {
        "id": "kdFLCHtOg53p"
      },
      "execution_count": 13,
      "outputs": []
    },
    {
      "cell_type": "code",
      "source": [
        "# What are the attributes of this class?\n",
        "# The attributes of this class are as listed my_list= [ id, name, price, description, manufacturer]\n",
        "# The attribute id gives a specific label to identify the product\n",
        "#The attribute name stores the given name of the product\n",
        "# The attribute price stores the cost or the priced amount of the product\n",
        "#The attribute description shows the description or information regarding the product\n",
        "# The attribute manufacturer is the name of the manfacturer for the product\n",
        "print('id', 'name', 'price', 'description', 'manufacturer')"
      ],
      "metadata": {
        "id": "SG85PC5Q0oSi",
        "outputId": "73ae6043-ee39-47e2-a91f-766ecbfb7837",
        "colab": {
          "base_uri": "https://localhost:8080/"
        }
      },
      "execution_count": 14,
      "outputs": [
        {
          "output_type": "stream",
          "name": "stdout",
          "text": [
            "id name price description manufacturer\n"
          ]
        }
      ]
    },
    {
      "cell_type": "code",
      "source": [
        "# In one line of code, create an instance of the class populating its attributes.\n",
        "Product1 = Products(2, \"Ball\", 20, \"Soccer_Ball\", \"Nike\")"
      ],
      "metadata": {
        "id": "ckuUZlUc0q8D"
      },
      "execution_count": 31,
      "outputs": []
    },
    {
      "cell_type": "code",
      "source": [
        "# Referencing the instance you just created, what code is required to print out the name of the instance?\n",
        "print(Product1.name)"
      ],
      "metadata": {
        "id": "Ksp2TAiM0u5t",
        "outputId": "9571d4a0-b343-4f17-f605-705f7769982a",
        "colab": {
          "base_uri": "https://localhost:8080/"
        }
      },
      "execution_count": 25,
      "outputs": [
        {
          "output_type": "stream",
          "name": "stdout",
          "text": [
            "Ball\n"
          ]
        }
      ]
    },
    {
      "cell_type": "markdown",
      "source": [
        "## Class Methods"
      ],
      "metadata": {
        "id": "0jQs4JYU2Kfh"
      }
    },
    {
      "cell_type": "code",
      "source": [
        "# Using the instance you created above, call the `print_product` method properly in a line of code.\n",
        "Product1.print_product()"
      ],
      "metadata": {
        "id": "aO-zWkhd172f",
        "outputId": "5583b6bd-d6f4-4e57-8e00-10ef034b50ad",
        "colab": {
          "base_uri": "https://localhost:8080/"
        }
      },
      "execution_count": 30,
      "outputs": [
        {
          "output_type": "stream",
          "name": "stdout",
          "text": [
            "Product 2 is Ball made by Nike. It costs $20\n"
          ]
        }
      ]
    },
    {
      "cell_type": "code",
      "source": [
        "# Now declare the class again (copy + paste from above). But now add a NEW method that you write.\n",
        "# This method should create a new attribute called \"sales_price\" that is 80% of the normal price.\n",
        "#\n",
        "# Finally, write this method to print out a statement like \"The ________ product is on sale for _____\"\n",
        "# where you fill in the blanks with the name and sales_price of the product.\n",
        "class Products:\n",
        "    def __init__(self, id, name, price, description, manufacturer):\n",
        "        self.id = id\n",
        "        self.name = name\n",
        "        self.price = price\n",
        "        self.description = description\n",
        "        self.manufacturer = manufacturer\n",
        "\n",
        "    def print_products(self):\n",
        "        print(f\"Product {self.id} is {self.name} made by {self.manufacturer}. It costs ${self.price}\")\n",
        "\n",
        "    def sales_price(self):\n",
        "        return self.price * 0.9\n",
        "        print(\"The\", self.name, \"product is on sale for\", value, \"dollars.\")"
      ],
      "metadata": {
        "id": "75apcUeJ2VQo"
      },
      "execution_count": 52,
      "outputs": []
    },
    {
      "cell_type": "code",
      "source": [
        "# Execute the class above\n",
        "Products"
      ],
      "metadata": {
        "id": "TZiNWOl_2-oh",
        "outputId": "ed22da81-f090-4bcc-864e-4222ab447502",
        "colab": {
          "base_uri": "https://localhost:8080/"
        }
      },
      "execution_count": 45,
      "outputs": [
        {
          "output_type": "execute_result",
          "data": {
            "text/plain": [
              "__main__.Products"
            ]
          },
          "metadata": {},
          "execution_count": 45
        }
      ]
    },
    {
      "cell_type": "code",
      "source": [
        "# Now create an instance of the class with new values.\n",
        "product2 = Products(2, \"Ball\", 15, \"Soccer Ball\", \"Nike\")\n"
      ],
      "metadata": {
        "id": "TT8qK1Ie3EVX"
      },
      "execution_count": 60,
      "outputs": []
    },
    {
      "cell_type": "code",
      "source": [
        "# Finally, using the instance you just created, invoke the new method you wrote. Be sure it prints\n",
        "# the desired text described above.\n",
        "print(product2.sales_price())\n"
      ],
      "metadata": {
        "id": "mobnFcMw3Icp",
        "outputId": "4900b026-e64d-4f22-d519-d86470ae5caa",
        "colab": {
          "base_uri": "https://localhost:8080/"
        }
      },
      "execution_count": 59,
      "outputs": [
        {
          "output_type": "stream",
          "name": "stdout",
          "text": [
            "13.5\n"
          ]
        }
      ]
    }
  ]
}