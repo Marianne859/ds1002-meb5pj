{
  "nbformat": 4,
  "nbformat_minor": 0,
  "metadata": {
    "colab": {
      "provenance": [],
      "include_colab_link": true
    },
    "kernelspec": {
      "name": "python3",
      "display_name": "Python 3"
    },
    "language_info": {
      "name": "python"
    }
  },
  "cells": [
    {
      "cell_type": "markdown",
      "metadata": {
        "id": "view-in-github",
        "colab_type": "text"
      },
      "source": [
        "<a href=\"https://colab.research.google.com/github/Marianne859/ds1002-meb5pj/blob/main/homework/week-9.ipynb\" target=\"_parent\"><img src=\"https://colab.research.google.com/assets/colab-badge.svg\" alt=\"Open In Colab\"/></a>"
      ]
    },
    {
      "cell_type": "markdown",
      "source": [
        "# Homework - Week 9\n",
        "\n",
        "Complete the following blocks as specified in the directions. Run each cell to return the desired output. Save your notebook back to your GitHub repository and submit the GitHub URL to your notebook for review."
      ],
      "metadata": {
        "id": "phbaQTT5gy8A"
      }
    },
    {
      "cell_type": "markdown",
      "source": [
        "## Functions\n",
        "\n",
        "In the cell below define a function that takes one parameter (in the form of a list) called `names` and returns a simple greeting for each name, such as\n",
        "\n",
        "    \"Hello Natasha, it's so nice to meet you\"\n",
        "    \"Hello Sid, it's so nice to meet you\"\n",
        "\n",
        "Define the function and run it, and in another cell below call the function populated with a var of a list of names."
      ],
      "metadata": {
        "id": "38Pg39pMrDua"
      }
    },
    {
      "cell_type": "code",
      "source": [
        "def greet_people(names):\n",
        "    greetings = []\n",
        "    for name in names:\n",
        "        greeting = f\"Hello {name}, it's so nice to meet you!\"\n",
        "        greetings.append(greeting)\n",
        "    return greetings\n",
        "\n",
        "name_list = [\"Bob\", \"John\", \"Mark\", \"Claira\"]\n",
        "\n",
        "greetings = greet_people(name_list)\n",
        "\n",
        "for greeting in greetings:\n",
        "    print(greeting)"
      ],
      "metadata": {
        "id": "kdFLCHtOg53p",
        "outputId": "66725b5d-9b1b-4e09-b350-46152bf6dca0",
        "colab": {
          "base_uri": "https://localhost:8080/"
        }
      },
      "execution_count": 21,
      "outputs": [
        {
          "output_type": "stream",
          "name": "stdout",
          "text": [
            "Hello Bob, it's so nice to meet you!\n",
            "Hello John, it's so nice to meet you!\n",
            "Hello Mark, it's so nice to meet you!\n",
            "Hello Claira, it's so nice to meet you!\n"
          ]
        }
      ]
    },
    {
      "cell_type": "code",
      "source": [
        "#\n"
      ],
      "metadata": {
        "id": "JlNPe_XUsmog"
      },
      "execution_count": null,
      "outputs": []
    },
    {
      "cell_type": "markdown",
      "source": [
        "Using the following list, pass it into a function you define that will evaluate the list and return a count of how many items is in it. Be creative.\n",
        "\n",
        "```\n",
        "mylist = [\"Toronto\",\"Buffalo\",\"Syracuse\",\"Albany\",\"Schenectady\",\"Brooklyn\",\"Rome\",\"Ithaca\"]\n",
        "```"
      ],
      "metadata": {
        "id": "mXqNACpkrdUZ"
      }
    },
    {
      "cell_type": "code",
      "source": [
        "mylist = [\"Toronto\", \"Buffalo\", \"Syracuse\", \"Albany\", \"Schenectady\", \"Brooklyn\", \"Rome\", \"Ithaca\"]\n",
        "\n",
        "def count_cities_in_list(city_list):\n",
        "    num_cities = len(city_list)\n",
        "    return num_cities\n",
        "\n",
        "item_count = count_cities_in_list(mylist)\n",
        "print(\"The number of items in the list is:\", item_count)\n"
      ],
      "metadata": {
        "id": "mvxOzRSisg0a",
        "outputId": "911c8b01-70dc-4cb9-c1f8-7c94d5c255d1",
        "colab": {
          "base_uri": "https://localhost:8080/"
        }
      },
      "execution_count": 25,
      "outputs": [
        {
          "output_type": "stream",
          "name": "stdout",
          "text": [
            "The number of items in the list is: 8\n"
          ]
        }
      ]
    },
    {
      "cell_type": "markdown",
      "source": [
        "## Input Validation\n",
        "\n",
        "Write a function below that defines two input parameters as `bool` and returns a `bool`.\n",
        "In the cell below that, populate two variables with two different bools (True and False)\n",
        "and pass them into a call of your function."
      ],
      "metadata": {
        "id": "YU7FXSCXsFab"
      }
    },
    {
      "cell_type": "code",
      "source": [
        "#not sure how to solve\n",
        "def combine_booleans(bool1, bool2):\n",
        "    result = bool1 and bool2  # You can use any boolean operation here\n",
        "    return result\n",
        "    bool1 = \"Dogs are animals\"\n",
        "bool2= \"Snakes are mammals\"\n",
        "bool_var1 = True\n",
        "bool_var2 = False\n",
        "\n",
        "result = combine_booleans(bool_var1, bool_var2)\n",
        "\n",
        "print(result)\n",
        "\n",
        "\n",
        "\n",
        "\n",
        "\n"
      ],
      "metadata": {
        "id": "DGMJZjlysfHU",
        "outputId": "b585c13b-603c-49bd-c3c9-07df93d42811",
        "colab": {
          "base_uri": "https://localhost:8080/"
        }
      },
      "execution_count": 34,
      "outputs": [
        {
          "output_type": "stream",
          "name": "stdout",
          "text": [
            "False\n"
          ]
        }
      ]
    },
    {
      "cell_type": "markdown",
      "source": [
        "## Global Variables\n",
        "\n",
        "Define a global variable and populate it with a data type (int, str, bool, float, etc.)"
      ],
      "metadata": {
        "id": "xXZTr5fdsd5M"
      }
    },
    {
      "cell_type": "markdown",
      "source": [
        "Now create a function that prints out the global variable. Call the function and display the value of the var."
      ],
      "metadata": {
        "id": "G1Auc6l1s8F6"
      }
    },
    {
      "cell_type": "code",
      "source": [
        "#\n",
        "ab = 16\n",
        "\n",
        "def print_the_global_var():\n",
        "  print(ab)\n",
        "\n",
        "print_the_global_var()"
      ],
      "metadata": {
        "id": "Q6O0Ep_wtBWJ",
        "outputId": "624ce711-e6e6-477f-8448-f966f42b033a",
        "colab": {
          "base_uri": "https://localhost:8080/"
        }
      },
      "execution_count": 27,
      "outputs": [
        {
          "output_type": "stream",
          "name": "stdout",
          "text": [
            "16\n"
          ]
        }
      ]
    },
    {
      "cell_type": "markdown",
      "source": [
        "Now create a function that creates its own global var and populates it.\n",
        "Call the function and then print out the global var from outside of the function."
      ],
      "metadata": {
        "id": "IN2TRQI8tCC4"
      }
    },
    {
      "cell_type": "code",
      "source": [
        "def create_global_var():\n",
        "    global yy\n",
        "    yy = 10.098\n",
        "\n",
        "create_global_var()\n",
        "print(yy)"
      ],
      "metadata": {
        "id": "Oz4rnmfTtKen",
        "outputId": "d85d8362-5507-41fa-ffe7-ae4e548e4f48",
        "colab": {
          "base_uri": "https://localhost:8080/"
        }
      },
      "execution_count": 32,
      "outputs": [
        {
          "output_type": "stream",
          "name": "stdout",
          "text": [
            "10.098\n"
          ]
        }
      ]
    },
    {
      "cell_type": "markdown",
      "source": [
        "Finally, write a function that updates the value of the global var you defined 3 cells above.\n",
        "\n",
        "1. Within the function, print out the global var you defined 3 cells above.\n",
        "2. Update the global var to have a new value.\n",
        "3. Within the function, print the new value of the global var.\n",
        "\n",
        "Call the function and once more print out the value of the global var from outside of the function."
      ],
      "metadata": {
        "id": "jv0dtym0tLZn"
      }
    },
    {
      "cell_type": "code",
      "source": [
        "#global_var = 10.098  # Global variable\n",
        "\n",
        "def update_global_var():\n",
        "    global global_var\n",
        "    print(\"Original value:\", global_var)\n",
        "    global_var = 5.678\n",
        "    print(\"New value:\", global_var)\n",
        "\n",
        "update_global_var()\n",
        "\n",
        "print(\"Final value:\", global_var)"
      ],
      "metadata": {
        "id": "pnX-hfKouLcG",
        "outputId": "5fc0eb28-47f1-498f-fd46-9e742f013a34",
        "colab": {
          "base_uri": "https://localhost:8080/",
          "height": 367
        }
      },
      "execution_count": 33,
      "outputs": [
        {
          "output_type": "error",
          "ename": "NameError",
          "evalue": "ignored",
          "traceback": [
            "\u001b[0;31m---------------------------------------------------------------------------\u001b[0m",
            "\u001b[0;31mNameError\u001b[0m                                 Traceback (most recent call last)",
            "\u001b[0;32m<ipython-input-33-b34762cb8c8c>\u001b[0m in \u001b[0;36m<cell line: 9>\u001b[0;34m()\u001b[0m\n\u001b[1;32m      7\u001b[0m     \u001b[0mprint\u001b[0m\u001b[0;34m(\u001b[0m\u001b[0;34m\"New value:\"\u001b[0m\u001b[0;34m,\u001b[0m \u001b[0mglobal_var\u001b[0m\u001b[0;34m)\u001b[0m\u001b[0;34m\u001b[0m\u001b[0;34m\u001b[0m\u001b[0m\n\u001b[1;32m      8\u001b[0m \u001b[0;34m\u001b[0m\u001b[0m\n\u001b[0;32m----> 9\u001b[0;31m \u001b[0mupdate_global_var\u001b[0m\u001b[0;34m(\u001b[0m\u001b[0;34m)\u001b[0m\u001b[0;34m\u001b[0m\u001b[0;34m\u001b[0m\u001b[0m\n\u001b[0m\u001b[1;32m     10\u001b[0m \u001b[0;34m\u001b[0m\u001b[0m\n\u001b[1;32m     11\u001b[0m \u001b[0mprint\u001b[0m\u001b[0;34m(\u001b[0m\u001b[0;34m\"Final value:\"\u001b[0m\u001b[0;34m,\u001b[0m \u001b[0mglobal_var\u001b[0m\u001b[0;34m)\u001b[0m\u001b[0;34m\u001b[0m\u001b[0;34m\u001b[0m\u001b[0m\n",
            "\u001b[0;32m<ipython-input-33-b34762cb8c8c>\u001b[0m in \u001b[0;36mupdate_global_var\u001b[0;34m()\u001b[0m\n\u001b[1;32m      3\u001b[0m \u001b[0;32mdef\u001b[0m \u001b[0mupdate_global_var\u001b[0m\u001b[0;34m(\u001b[0m\u001b[0;34m)\u001b[0m\u001b[0;34m:\u001b[0m\u001b[0;34m\u001b[0m\u001b[0;34m\u001b[0m\u001b[0m\n\u001b[1;32m      4\u001b[0m     \u001b[0;32mglobal\u001b[0m \u001b[0mglobal_var\u001b[0m\u001b[0;34m\u001b[0m\u001b[0;34m\u001b[0m\u001b[0m\n\u001b[0;32m----> 5\u001b[0;31m     \u001b[0mprint\u001b[0m\u001b[0;34m(\u001b[0m\u001b[0;34m\"Original value:\"\u001b[0m\u001b[0;34m,\u001b[0m \u001b[0mglobal_var\u001b[0m\u001b[0;34m)\u001b[0m\u001b[0;34m\u001b[0m\u001b[0;34m\u001b[0m\u001b[0m\n\u001b[0m\u001b[1;32m      6\u001b[0m     \u001b[0mglobal_var\u001b[0m \u001b[0;34m=\u001b[0m \u001b[0;36m5.678\u001b[0m\u001b[0;34m\u001b[0m\u001b[0;34m\u001b[0m\u001b[0m\n\u001b[1;32m      7\u001b[0m     \u001b[0mprint\u001b[0m\u001b[0;34m(\u001b[0m\u001b[0;34m\"New value:\"\u001b[0m\u001b[0;34m,\u001b[0m \u001b[0mglobal_var\u001b[0m\u001b[0;34m)\u001b[0m\u001b[0;34m\u001b[0m\u001b[0;34m\u001b[0m\u001b[0m\n",
            "\u001b[0;31mNameError\u001b[0m: name 'global_var' is not defined"
          ]
        }
      ]
    }
  ]
}